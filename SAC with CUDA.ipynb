{
 "cells": [
  {
   "cell_type": "code",
   "execution_count": 1,
   "id": "bd622c02",
   "metadata": {},
   "outputs": [],
   "source": [
    "using BenchmarkTools\n",
    "using CUDA\n",
    "using DataStructures\n",
    "using Flux\n",
    "using Flux: params\n",
    "using Gym\n",
    "using StatsBase: StatsBase, sample\n",
    "using Zygote"
   ]
  },
  {
   "cell_type": "code",
   "execution_count": 2,
   "id": "d4c62378",
   "metadata": {},
   "outputs": [
    {
     "data": {
      "text/plain": [
       "GymEnv(\"CartPole-v1\", Gym.Spec(\"CartPole-v1\", 475.0, false, 500), DiscreteS(2), BoxS(Float32[-4.8, -3.4028235f38, -0.41887903, -3.4028235f38], Float32[4.8, 3.4028235f38, 0.41887903, 3.4028235f38], (4,)), (-Inf, Inf), PyObject <TimeLimit<CartPoleEnv<CartPole-v1>>>)"
      ]
     },
     "execution_count": 2,
     "metadata": {},
     "output_type": "execute_result"
    }
   ],
   "source": [
    "env = GymEnv(\"CartPole-v1\")"
   ]
  },
  {
   "cell_type": "code",
   "execution_count": 3,
   "id": "964c9f52",
   "metadata": {},
   "outputs": [
    {
     "data": {
      "text/plain": [
       "2"
      ]
     },
     "execution_count": 3,
     "metadata": {},
     "output_type": "execute_result"
    }
   ],
   "source": [
    "env.action_space.n"
   ]
  },
  {
   "cell_type": "code",
   "execution_count": 4,
   "id": "2ae8e890",
   "metadata": {},
   "outputs": [
    {
     "data": {
      "text/plain": [
       "2-element Vector{Any}:\n",
       " 0\n",
       " 1"
      ]
     },
     "execution_count": 4,
     "metadata": {},
     "output_type": "execute_result"
    }
   ],
   "source": [
    "Base.length(ds::DiscreteS) = ds.n\n",
    "Base.iterate(ds::DiscreteS) = iterate(0:ds.n-1)\n",
    "Base.iterate(ds::DiscreteS, state) = iterate(0:ds.n-1, state)\n",
    "StatsBase.sample(ds::DiscreteS) = Gym.sample(ds)\n",
    "\n",
    "collect(env.action_space)"
   ]
  },
  {
   "cell_type": "code",
   "execution_count": 5,
   "id": "50fdfa9a",
   "metadata": {},
   "outputs": [],
   "source": [
    "struct SAR{S, A}\n",
    "    s      :: S\n",
    "    a      :: A\n",
    "    r      :: Float32\n",
    "    s′     :: S\n",
    "    t      :: Int32\n",
    "    failed :: Bool\n",
    "    limit  :: Bool\n",
    "end\n"
   ]
  },
  {
   "cell_type": "code",
   "execution_count": 6,
   "id": "6d101942",
   "metadata": {},
   "outputs": [
    {
     "data": {
      "text/plain": [
       "run_episode (generic function with 1 method)"
      ]
     },
     "execution_count": 6,
     "metadata": {},
     "output_type": "execute_result"
    }
   ],
   "source": [
    "abstract type AbstractPolicy end\n",
    "\n",
    "function action end\n",
    "\n",
    "function run_episode(step_f, env, policy)\n",
    "    episode_reward = 0f0\n",
    "    s = Gym.reset!(env)\n",
    "    for t in Iterators.countfrom(1)\n",
    "        a = action(policy, s, env.action_space)\n",
    "        s′, r, failed, info = step!(env, a)\n",
    "        episode_reward += r\n",
    "        @assert t < env.gymenv._max_episode_steps\n",
    "        limit = t == env.gymenv._max_episode_steps\n",
    "        if limit\n",
    "            failed = false\n",
    "        end\n",
    "        step_f(SAR(s, a, Float32(r), s′, Int32(t), failed, limit))\n",
    "        if failed || limit\n",
    "            break\n",
    "        end\n",
    "    end\n",
    "    episode_reward\n",
    "end"
   ]
  },
  {
   "cell_type": "code",
   "execution_count": 7,
   "id": "3fc2d418",
   "metadata": {},
   "outputs": [
    {
     "data": {
      "text/plain": [
       "action (generic function with 1 method)"
      ]
     },
     "execution_count": 7,
     "metadata": {},
     "output_type": "execute_result"
    }
   ],
   "source": [
    "struct Policy <: AbstractPolicy end\n",
    "\n",
    "function action(policy::Policy, s, A)\n",
    "    sample(A)\n",
    "end"
   ]
  },
  {
   "cell_type": "code",
   "execution_count": 8,
   "id": "0a2050bd",
   "metadata": {},
   "outputs": [
    {
     "data": {
      "text/plain": [
       "2193"
      ]
     },
     "execution_count": 8,
     "metadata": {},
     "output_type": "execute_result"
    }
   ],
   "source": [
    "sars = SAR[]\n",
    "for episode in 1:100\n",
    "    run_episode(env, Policy()) do sar\n",
    "        push!(sars, sar)\n",
    "        # render(env)\n",
    "    end\n",
    "end\n",
    "Gym.close!(env)\n",
    "length(sars)"
   ]
  },
  {
   "cell_type": "code",
   "execution_count": 9,
   "id": "1187c598",
   "metadata": {},
   "outputs": [
    {
     "data": {
      "text/plain": [
       "make_q_network (generic function with 1 method)"
      ]
     },
     "execution_count": 9,
     "metadata": {},
     "output_type": "execute_result"
    }
   ],
   "source": [
    "function nonans(label)\n",
    "    function (xs)\n",
    "        @assert !any(isnan, xs) \"nan at $label\"\n",
    "        xs\n",
    "    end\n",
    "end\n",
    "\n",
    "function make_π_network()\n",
    "    Chain(\n",
    "        nonans(\"π input\"),\n",
    "        Dense(4, 600, relu),\n",
    "        Dense(600, 200, relu),\n",
    "        Dense(200, 2, identity),\n",
    "        softmax,\n",
    "        nonans(\"π output\"))\n",
    "end\n",
    "\n",
    "function make_q_network()\n",
    "    Chain(\n",
    "        nonans(\"q input\"),\n",
    "        Dense(4, 600, relu),\n",
    "        Dense(600, 200, relu),\n",
    "        Dense(200, 2, identity),\n",
    "        nonans(\"q output\"))\n",
    "end"
   ]
  },
  {
   "cell_type": "code",
   "execution_count": 10,
   "id": "7ac1b707",
   "metadata": {},
   "outputs": [
    {
     "data": {
      "text/plain": [
       "Chain(\n",
       "  var\"#3#4\"{String}(\"π input\"),\n",
       "  Dense(4, 600, relu),                  \u001b[90m# 3_000 parameters\u001b[39m\n",
       "  Dense(600, 200, relu),                \u001b[90m# 120_200 parameters\u001b[39m\n",
       "  Dense(200, 2),                        \u001b[90m# 402 parameters\u001b[39m\n",
       "  NNlib.softmax,\n",
       "  var\"#3#4\"{String}(\"π output\"),\n",
       ")\u001b[90m                   # Total: 6 arrays, \u001b[39m123_602 parameters, 745 bytes."
      ]
     },
     "execution_count": 10,
     "metadata": {},
     "output_type": "execute_result"
    }
   ],
   "source": [
    "π_d = gpu(make_π_network())"
   ]
  },
  {
   "cell_type": "code",
   "execution_count": 11,
   "id": "bc64bb82",
   "metadata": {},
   "outputs": [
    {
     "data": {
      "text/plain": [
       "2-element CuArray{Float32, 1, CUDA.Mem.DeviceBuffer}:\n",
       " 0.5155876\n",
       " 0.4844124"
      ]
     },
     "execution_count": 11,
     "metadata": {},
     "output_type": "execute_result"
    }
   ],
   "source": [
    "x_d = gpu(rand(4))\n",
    "π_d(x_d)"
   ]
  },
  {
   "cell_type": "code",
   "execution_count": 12,
   "id": "73c103ce",
   "metadata": {},
   "outputs": [
    {
     "data": {
      "text/plain": [
       "4-element CuArray{Float32, 1, CUDA.Mem.DeviceBuffer}:\n",
       " 1.3463959\n",
       " 1.8578858\n",
       " 1.266954\n",
       " 1.6604097"
      ]
     },
     "execution_count": 12,
     "metadata": {},
     "output_type": "execute_result"
    }
   ],
   "source": [
    "x_d .+= 1"
   ]
  },
  {
   "cell_type": "code",
   "execution_count": 13,
   "id": "bf5bf966",
   "metadata": {},
   "outputs": [
    {
     "data": {
      "text/plain": [
       "valgrad (generic function with 1 method)"
      ]
     },
     "execution_count": 13,
     "metadata": {},
     "output_type": "execute_result"
    }
   ],
   "source": [
    "function valgrad(f, x...)\n",
    "    val, back = pullback(f, x...)\n",
    "    val, back(1)\n",
    "end"
   ]
  },
  {
   "cell_type": "code",
   "execution_count": 14,
   "id": "46db38bf",
   "metadata": {},
   "outputs": [
    {
     "data": {
      "text/plain": [
       "Params([Float32[0.02055074 0.017598977 0.03929853 -0.009701583; 0.097948015 0.045566842 0.0261656 -0.09887467; … ; 0.06911378 -0.01995021 0.025440695 -0.028289732; -0.008783246 -0.051764224 0.0485605 0.02541781], Float32[0.0, 0.0, 0.0, 0.0, 0.0, 0.0, 0.0, 0.0, 0.0, 0.0  …  0.0, 0.0, 0.0, 0.0, 0.0, 0.0, 0.0, 0.0, 0.0, 0.0], Float32[-0.038315438 -0.04047407 … -0.04325533 0.018109128; 0.0056203534 0.021703616 … 0.078905135 0.06412338; … ; -0.050137274 -0.049155746 … -0.0534402 -0.053650968; -0.03902287 -0.081143565 … 0.005548933 0.065123774], Float32[0.0, 0.0, 0.0, 0.0, 0.0, 0.0, 0.0, 0.0, 0.0, 0.0  …  0.0, 0.0, 0.0, 0.0, 0.0, 0.0, 0.0, 0.0, 0.0, 0.0], Float32[-0.16034214 -0.023040686 … 0.12092592 -0.11126434; -0.07888829 -0.05053302 … 0.11698182 -0.117985904], Float32[0.0, 0.0]])"
      ]
     },
     "execution_count": 14,
     "metadata": {},
     "output_type": "execute_result"
    }
   ],
   "source": [
    "params(π_d)"
   ]
  },
  {
   "cell_type": "code",
   "execution_count": null,
   "id": "954b4e6d",
   "metadata": {},
   "outputs": [],
   "source": [
    "loss, grads = valgrad(params(π_d)) do\n",
    "    sum(π_d(x_d))\n",
    "end\n",
    "display(loss)\n",
    "display(grads)"
   ]
  },
  {
   "cell_type": "code",
   "execution_count": null,
   "id": "7b2fec17",
   "metadata": {},
   "outputs": [],
   "source": [
    "println(typeof(grads.params |> first))\n",
    "println(typeof(grads.grads |> keys |> first))\n",
    "println(typeof(grads.grads |> values |> first))"
   ]
  },
  {
   "cell_type": "code",
   "execution_count": null,
   "id": "c429d7c0",
   "metadata": {},
   "outputs": [],
   "source": [
    "π_h = make_π_network()\n",
    "x_h = rand(4)\n",
    "host_small_bm = @benchmark valgrad(params(π_h)) do\n",
    "    sum(π_h(x_h))\n",
    "end"
   ]
  },
  {
   "cell_type": "code",
   "execution_count": null,
   "id": "567d9b9c",
   "metadata": {},
   "outputs": [],
   "source": [
    "device_small_bm = @benchmark valgrad(params(π_d)) do\n",
    "    sum(π_d(x_d))\n",
    "end"
   ]
  },
  {
   "cell_type": "code",
   "execution_count": null,
   "id": "9a86f829",
   "metadata": {},
   "outputs": [],
   "source": [
    "x_h = rand(4, 10_000)\n",
    "host_large_bm = @benchmark valgrad(params(π_h)) do\n",
    "    sum(π_h(x_h))\n",
    "end"
   ]
  },
  {
   "cell_type": "code",
   "execution_count": null,
   "id": "b852e2fb",
   "metadata": {},
   "outputs": [],
   "source": [
    "x_d = rand(4, 10_000) |> gpu\n",
    "device_large_bm = @benchmark valgrad(params(π_d)) do\n",
    "    sum(π_d(x_d))\n",
    "end"
   ]
  },
  {
   "cell_type": "code",
   "execution_count": null,
   "id": "71484b2c",
   "metadata": {},
   "outputs": [],
   "source": [
    "device_large_bm2 = @benchmark begin\n",
    "    x_d = rand(4, 10_000) |> gpu\n",
    "    valgrad(params(π_d)) do\n",
    "        sum(π_d(x_d))\n",
    "    end\n",
    "end"
   ]
  },
  {
   "cell_type": "code",
   "execution_count": null,
   "id": "e39b57b1",
   "metadata": {},
   "outputs": [],
   "source": [
    "println(\"Device small speedup: $((mean(device_small_bm.times) / mean(host_small_bm.times))^-1)\")\n",
    "println(\"Device large speedup: $((mean(device_large_bm.times) / mean(host_large_bm.times))^-1)\")\n",
    "println(\"Device large speedup: $((mean(device_large_bm2.times) / mean(host_large_bm.times))^-1)\")"
   ]
  }
 ],
 "metadata": {
  "kernelspec": {
   "display_name": "Julia 1.6.2",
   "language": "julia",
   "name": "julia-1.6"
  },
  "language_info": {
   "file_extension": ".jl",
   "mimetype": "application/julia",
   "name": "julia",
   "version": "1.6.2"
  }
 },
 "nbformat": 4,
 "nbformat_minor": 5
}
